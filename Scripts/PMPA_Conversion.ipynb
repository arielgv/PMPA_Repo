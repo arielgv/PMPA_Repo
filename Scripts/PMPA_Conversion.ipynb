{
 "cells": [
  {
   "cell_type": "code",
   "execution_count": 3,
   "metadata": {},
   "outputs": [
    {
     "ename": "ImportError",
     "evalue": "cannot import name 'scada_processing' from 'Scada_code' (/Users/arielvillafane/Documents/PMPA/repo/Scripts/Scada_code.py)",
     "output_type": "error",
     "traceback": [
      "\u001b[0;31m---------------------------------------------------------------------------\u001b[0m",
      "\u001b[0;31mImportError\u001b[0m                               Traceback (most recent call last)",
      "Cell \u001b[0;32mIn[3], line 4\u001b[0m\n\u001b[1;32m      2\u001b[0m \u001b[38;5;28;01mimport\u001b[39;00m \u001b[38;5;21;01mtime\u001b[39;00m\n\u001b[1;32m      3\u001b[0m \u001b[38;5;28;01mfrom\u001b[39;00m \u001b[38;5;21;01mdatetime\u001b[39;00m \u001b[38;5;28;01mimport\u001b[39;00m datetime\n\u001b[0;32m----> 4\u001b[0m \u001b[38;5;28;01mfrom\u001b[39;00m \u001b[38;5;21;01mScada_code\u001b[39;00m \u001b[38;5;28;01mimport\u001b[39;00m scada_processing\n",
      "\u001b[0;31mImportError\u001b[0m: cannot import name 'scada_processing' from 'Scada_code' (/Users/arielvillafane/Documents/PMPA/repo/Scripts/Scada_code.py)"
     ]
    }
   ],
   "source": [
    "import pandas as pd\n",
    "import time\n",
    "from datetime import datetime\n",
    "from Scada_code import scada_processing"
   ]
  },
  {
   "cell_type": "code",
   "execution_count": 2,
   "metadata": {},
   "outputs": [
    {
     "name": "stdout",
     "output_type": "stream",
     "text": [
      "Starting 15:24:18\n",
      "Finished. Total time: 0.00 seconds\n"
     ]
    }
   ],
   "source": [
    "def main():\n",
    "    start_time = time.time()\n",
    "    print(f\"Starting {datetime.now().strftime('%H:%M:%S')}\")\n",
    "\n",
    "    # Aquí irán las llamadas a las demás funciones\n",
    "    # Por ejemplo:\n",
    "    scada_processing()\n",
    "    # fep_processing()\n",
    "    # iccp_processing()\n",
    "    # merge_scada()\n",
    "    # merge_fep()\n",
    "\n",
    "    end_time = time.time()\n",
    "    print(f\"Finished. Total time: {end_time - start_time:.2f} seconds\")\n",
    "\n",
    "if __name__ == \"__main__\":\n",
    "    main()"
   ]
  },
  {
   "cell_type": "code",
   "execution_count": null,
   "metadata": {},
   "outputs": [],
   "source": []
  }
 ],
 "metadata": {
  "kernelspec": {
   "display_name": "venv",
   "language": "python",
   "name": "python3"
  },
  "language_info": {
   "codemirror_mode": {
    "name": "ipython",
    "version": 3
   },
   "file_extension": ".py",
   "mimetype": "text/x-python",
   "name": "python",
   "nbconvert_exporter": "python",
   "pygments_lexer": "ipython3",
   "version": "3.10.0"
  }
 },
 "nbformat": 4,
 "nbformat_minor": 2
}
